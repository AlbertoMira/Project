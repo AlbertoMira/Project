{
  "nbformat": 4,
  "nbformat_minor": 0,
  "metadata": {
    "colab": {
      "name": "Testing the gestures.ipynb",
      "provenance": [],
      "collapsed_sections": []
    },
    "kernelspec": {
      "name": "python3",
      "display_name": "Python 3"
    }
  },
  "cells": [
    {
      "cell_type": "code",
      "metadata": {
        "id": "vHrGtS0VFtUb"
      },
      "source": [
        "import tensorflow as tf\r\n",
        "from tensorflow import keras\r\n",
        "import numpy as np\r\n",
        "from sklearn.model_selection import train_test_split\r\n",
        "from scipy.fft import fft\r\n",
        "import pickle"
      ],
      "execution_count": 6,
      "outputs": []
    },
    {
      "cell_type": "code",
      "metadata": {
        "id": "22ltdQS0Fvyq"
      },
      "source": [
        "# This function processes the files regarding the gestures. In the end, it returns\r\n",
        "# a 3000x4 numpy array (final_data_1) for every gesture.\r\n",
        "# Besides, it also returns a numpy array (final_data_2) of those samples related to a no movement, \r\n",
        "# meaning when no gesture is being made.\r\n",
        "def movement_processing():\r\n",
        "    processMovement = input(\"Do you want to process a movement?\\n1. Yes\\n2. No\\n\")\r\n",
        "    l1=[]\r\n",
        "    l2=[]\r\n",
        "    while processMovement==\"Yes\":\r\n",
        "        movement = input(\"Enter the name of the file related to the movement: \")\r\n",
        "        numberFiles =int(input(\"Enter the number of files you have regarding this movement: \"))\r\n",
        "        for i in range (1,numberFiles+1): #Here, the user enters the number of files. Mind that all file names should follow the same structure.\r\n",
        "            if movement =='StrongGrasp':\r\n",
        "              f=open(movement+\"_\"+str(i)+\".txt\", \"r\")\r\n",
        "              lists=f.readlines()\r\n",
        "              lists=lists[3:] #Taking only the information which is useful for us.\r\n",
        "              f.close()\r\n",
        "              a=np.zeros((1,4))\r\n",
        "              c=np.zeros((1,4))\r\n",
        "              i=0\r\n",
        "              for e in lists: # Basically, for every movement, we store the useful data of the signals.\r\n",
        "                              # At the same time, we store information regarding the no movement state.\r\n",
        "                              # This is regarding the strong grasp, but the same applies for every movement.\r\n",
        "                              # In the numpy array containing the data of the grasp, the information which is not useful\r\n",
        "                              # is set to 0. \r\n",
        "                  e=''.join(e)\r\n",
        "                  e=e.split(\";\")\r\n",
        "                  if i==0:\r\n",
        "                    c[0][0]=int(e[2])\r\n",
        "                    c[0][1]=int(e[3])\r\n",
        "                    c[0][2]=int(e[4])\r\n",
        "                    c[0][3]=int(e[5])\r\n",
        "                    a[0][0]=0\r\n",
        "                    a[0][1]=0\r\n",
        "                    a[0][2]=0\r\n",
        "                    a[0][3]=0\r\n",
        "                    i=1\r\n",
        "                  elif a.shape[0]>0 and a.shape[0]<=1000:\r\n",
        "                    a=np.append(a, [[0,0,0,0]], axis=0)\r\n",
        "                    c=np.append(c, [[int(e[2]),int(e[3]),int(e[4]),int(e[5])]], axis=0)\r\n",
        "    \r\n",
        "                  elif a.shape[0]>1000 and a.shape[0]<3000:\r\n",
        "                    a=np.append(a, [[int(e[2]),int(e[3]),int(e[4]), int(e[5])]], axis=0)\r\n",
        "              while a.shape[0]<3000:\r\n",
        "                    a=np.append(a, [[0,0,0, 0]], axis=0)\r\n",
        "              l2.append(c)\r\n",
        "\r\n",
        "            elif movement=='WeakGrasp':\r\n",
        "                f=open(movement+\"_\"+str(i)+\".txt\", \"r\")\r\n",
        "                lists=f.readlines()\r\n",
        "                lists=lists[3:]\r\n",
        "                f.close()\r\n",
        "                a=np.zeros((1,4))\r\n",
        "                c=np.zeros((1,4))\r\n",
        "                i=0\r\n",
        "                for e in lists: \r\n",
        "                    e=''.join(e)\r\n",
        "                    e=e.split(\";\")\r\n",
        "                    if i==0:\r\n",
        "                      c[0][0]=int(e[2])\r\n",
        "                      c[0][1]=int(e[3])\r\n",
        "                      c[0][2]=int(e[4])\r\n",
        "                      c[0][3]=int(e[5])\r\n",
        "                      a[0][0]=0\r\n",
        "                      a[0][1]=0\r\n",
        "                      a[0][2]=0\r\n",
        "                      a[0][3]=0\r\n",
        "                      i=1\r\n",
        "                    elif a.shape[0]>0 and a.shape[0]<=800:\r\n",
        "                      a=np.append(a, [[0,0,0,0]], axis=0)\r\n",
        "                      c=np.append(c, [[int(e[2]),int(e[3]),int(e[4]),int(e[5])]], axis=0)\r\n",
        "                    elif a.shape[0]>800 and a.shape[0]<=1600:\r\n",
        "                      a=np.append(a, [[int(e[2]),int(e[3]),int(e[4]), int(e[5])]], axis=0)\r\n",
        "                    elif a.shape[0]>1600 and a.shape[0]<3000:\r\n",
        "                      a=np.append(a, [[0,0,0,0]], axis=0)\r\n",
        "                while a.shape[0]<3000:\r\n",
        "                      a=np.append(a, [[0,0,0, 0]], axis=0)\r\n",
        "                l2.append(c)\r\n",
        "\r\n",
        "\r\n",
        "            elif movement== 'KeyGrasp':\r\n",
        "                f=open(movement+\"_\"+str(i)+\".txt\", \"r\")\r\n",
        "                lists=f.readlines()\r\n",
        "                lists=lists[3:]\r\n",
        "                f.close()\r\n",
        "                a=np.zeros((1,4))\r\n",
        "                i=0\r\n",
        "                for e in lists: \r\n",
        "                    e=''.join(e)\r\n",
        "                    e=e.split(\";\")\r\n",
        "                    if i==0:\r\n",
        "                      a[0][0]=0\r\n",
        "                      a[0][1]=0\r\n",
        "                      a[0][2]=0\r\n",
        "                      a[0][3]=0\r\n",
        "                      i=1\r\n",
        "                    elif a.shape[0]<3000:\r\n",
        "                      a=np.append(a, [[int(e[2]),int(e[3]),int(e[4]), int(e[5])]], axis=0)\r\n",
        "                while a.shape[0]<3000:\r\n",
        "                      a=np.append(a, [[0,0,0, 0]], axis=0)\r\n",
        "\r\n",
        "\r\n",
        "            elif movement=='ThumbUp':\r\n",
        "                f=open(movement+\"_\"+str(i)+\".txt\", \"r\")\r\n",
        "                lists=f.readlines()\r\n",
        "                lists=lists[3:]\r\n",
        "                f.close()\r\n",
        "                a=np.zeros((1,4))\r\n",
        "                c=np.zeros((1,4))\r\n",
        "                i=0\r\n",
        "                for e in lists: \r\n",
        "                    e=''.join(e)\r\n",
        "                    e=e.split(\";\")\r\n",
        "                    if i==0:\r\n",
        "                      c[0][0]=int(e[2])\r\n",
        "                      c[0][1]=int(e[3])\r\n",
        "                      c[0][2]=int(e[4])\r\n",
        "                      c[0][3]=int(e[5])\r\n",
        "                      a[0][0]=0\r\n",
        "                      a[0][1]=0\r\n",
        "                      a[0][2]=0\r\n",
        "                      a[0][3]=0\r\n",
        "                      i=1\r\n",
        "                    elif a.shape[0]>0 and a.shape[0]<=500:\r\n",
        "                      a=np.append(a, [[0,0,0,0]], axis=0)\r\n",
        "                      c=np.append(c, [[int(e[2]),int(e[3]),int(e[4]),int(e[5])]], axis=0)\r\n",
        "                    elif a.shape[0]>500 and a.shape[0]<=1500:\r\n",
        "                      a=np.append(a, [[int(e[2]),int(e[3]),int(e[4]), int(e[5])]], axis=0)\r\n",
        "                    elif a.shape[0]>1500 and a.shape[0]<3000:\r\n",
        "                      a=np.append(a, [[0,0,0,0]], axis=0)\r\n",
        "                while a.shape[0]<3000:\r\n",
        "                      a=np.append(a, [[0,0,0, 0]], axis=0)\r\n",
        "                l2.append(c)\r\n",
        "            else:\r\n",
        "                f=open(movement+\"_\"+str(i)+\".txt\", \"r\")\r\n",
        "                lists=f.readlines()\r\n",
        "                lists=lists[3:]\r\n",
        "                f.close()\r\n",
        "                a=np.zeros((1,4))\r\n",
        "                c=np.zeros((1,4))\r\n",
        "                i=0\r\n",
        "                for e in lists: \r\n",
        "                    e=''.join(e)\r\n",
        "                    e=e.split(\";\")\r\n",
        "                    if i==0:\r\n",
        "                      c[0][0]=int(e[2])\r\n",
        "                      c[0][1]=int(e[3])\r\n",
        "                      c[0][2]=int(e[4])\r\n",
        "                      c[0][3]=int(e[5])\r\n",
        "                      a[0][0]=0\r\n",
        "                      a[0][1]=0\r\n",
        "                      a[0][2]=0\r\n",
        "                      a[0][3]=0\r\n",
        "                      i=1\r\n",
        "                    elif a.shape[0]>0 and a.shape[0]<=500:\r\n",
        "                      a=np.append(a, [[0,0,0,0]], axis=0)\r\n",
        "                      c=np.append(c, [[int(e[2]),int(e[3]),int(e[4]),int(e[5])]], axis=0)\r\n",
        "                    elif a.shape[0]>500 and a.shape[0]<=1600:\r\n",
        "                      a=np.append(a, [[int(e[2]),int(e[3]),int(e[4]), int(e[5])]], axis=0)\r\n",
        "                    elif a.shape[0]>1600 and a.shape[0]<3000:\r\n",
        "                      a=np.append(a, [[0,0,0,0]], axis=0)\r\n",
        "                while a.shape[0]<3000:\r\n",
        "                      a=np.append(a, [[0,0,0, 0]], axis=0)\r\n",
        "                l2.append(c)\r\n",
        "            \r\n",
        "            l1.append(a)\r\n",
        "\r\n",
        "        processMovement = input(\"Do you want to process a movement?\\n1. Yes\\n2. No\\n\")\r\n",
        "    \r\n",
        "    return (np.array(l1), np.array(l2))"
      ],
      "execution_count": 7,
      "outputs": []
    },
    {
      "cell_type": "code",
      "metadata": {
        "colab": {
          "base_uri": "https://localhost:8080/"
        },
        "id": "t7ZO5tKnFv9W",
        "outputId": "67808eeb-b63c-4ed0-8b8c-9ac6fc636f64"
      },
      "source": [
        "# We get those 2 numpy arrays above mentioned\r\n",
        "final_data_1, final_data_2 = movement_processing()"
      ],
      "execution_count": 8,
      "outputs": [
        {
          "output_type": "stream",
          "text": [
            "Do you want to process a movement?\n",
            "1. Yes\n",
            "2. No\n",
            "Yes\n",
            "Enter the name of the file related to the movement: StrongGrasp\n",
            "Enter the number of files you have regarding this movement: 100\n",
            "Do you want to process a movement?\n",
            "1. Yes\n",
            "2. No\n",
            "Yes\n",
            "Enter the name of the file related to the movement: WeakGrasp\n",
            "Enter the number of files you have regarding this movement: 100\n",
            "Do you want to process a movement?\n",
            "1. Yes\n",
            "2. No\n",
            "Yes\n",
            "Enter the name of the file related to the movement: KeyGrasp\n",
            "Enter the number of files you have regarding this movement: 100\n",
            "Do you want to process a movement?\n",
            "1. Yes\n",
            "2. No\n",
            "Yes\n",
            "Enter the name of the file related to the movement: ThumbUp\n",
            "Enter the number of files you have regarding this movement: 100\n",
            "Do you want to process a movement?\n",
            "1. Yes\n",
            "2. No\n",
            "Yes\n",
            "Enter the name of the file related to the movement: RockOn\n",
            "Enter the number of files you have regarding this movement: 100\n",
            "Do you want to process a movement?\n",
            "1. Yes\n",
            "2. No\n",
            "No\n"
          ],
          "name": "stdout"
        },
        {
          "output_type": "stream",
          "text": [
            "/usr/local/lib/python3.6/dist-packages/ipykernel_launcher.py:170: VisibleDeprecationWarning: Creating an ndarray from ragged nested sequences (which is a list-or-tuple of lists-or-tuples-or ndarrays with different lengths or shapes) is deprecated. If you meant to do this, you must specify 'dtype=object' when creating the ndarray\n"
          ],
          "name": "stderr"
        }
      ]
    },
    {
      "cell_type": "code",
      "metadata": {
        "colab": {
          "base_uri": "https://localhost:8080/"
        },
        "id": "ikaU8CxMFwGU",
        "outputId": "6a3bf758-73f4-4ec8-d5d8-1a2f6eb7d9e2"
      },
      "source": [
        "# Gathering the 6 gestures in a single numpy array\r\n",
        "l=[]\r\n",
        "a=np.zeros((1,4))\r\n",
        "for e in final_data_2:\r\n",
        "  for i in e:\r\n",
        "    if a.shape[0]<3001:\r\n",
        "        a=np.append(a, [[int(i[0]),int(i[1]),int(i[2]),int(i[3])]], axis=0)\r\n",
        "    else:\r\n",
        "      a=a[1:]\r\n",
        "      l.append(a)#fft(a))\r\n",
        "      a=np.zeros((1,4))\r\n",
        "    \r\n",
        "b=list(final_data_1)\r\n",
        "for e in l:\r\n",
        "  b.append(e)\r\n",
        "c=np.array(b)\r\n",
        "c.shape\r\n"
      ],
      "execution_count": 9,
      "outputs": [
        {
          "output_type": "execute_result",
          "data": {
            "text/plain": [
              "(593, 3000, 4)"
            ]
          },
          "metadata": {
            "tags": []
          },
          "execution_count": 9
        }
      ]
    },
    {
      "cell_type": "code",
      "metadata": {
        "id": "fq-Txi-apfVW"
      },
      "source": [
        "# Creating the labels for every gesture\r\n",
        "l=[]\r\n",
        "i=0\r\n",
        "while i<593:\r\n",
        "  if i<100:\r\n",
        "    l.append(0) #Strong grasp\r\n",
        "  elif i>=100 and i<200:\r\n",
        "    l.append(1) #Weak grasp\r\n",
        "  elif i>=200 and i<300:\r\n",
        "    l.append(2) # Key grasp\r\n",
        "  elif i>=300 and i<400:\r\n",
        "    l.append(3) # Thumbs up\r\n",
        "  elif i>=400 and i<500:\r\n",
        "    l.append(4) #Rock on\r\n",
        "  else:\r\n",
        "    l.append(5) #No movement\r\n",
        "  i=i+1\r\n",
        "b=np.array(l)"
      ],
      "execution_count": 10,
      "outputs": []
    },
    {
      "cell_type": "code",
      "metadata": {
        "id": "bai77s9hsWg4"
      },
      "source": [
        "X_train, X_test, y_train, y_test = train_test_split(c, b, test_size=0.2) # Split the data"
      ],
      "execution_count": 11,
      "outputs": []
    },
    {
      "cell_type": "code",
      "metadata": {
        "id": "LKxbnygmsi7E"
      },
      "source": [
        "# A part of the training data is reserved as a validation set\r\n",
        "x_val = X_train[-100:]\r\n",
        "y_val = y_train[-100:]\r\n",
        "X_train = X_train[:-100]\r\n",
        "y_train = y_train[:-100]"
      ],
      "execution_count": 12,
      "outputs": []
    },
    {
      "cell_type": "code",
      "metadata": {
        "id": "3VSp1NalslF6"
      },
      "source": [
        "# Model\r\n",
        "model = keras.Sequential([\r\n",
        "  keras.layers.Flatten(input_shape=(3000,4)),\r\n",
        "  keras.layers.Dense(120, activation='relu'),\r\n",
        "  keras.layers.Dense(120, activation='relu'),\r\n",
        "  keras.layers.Dense(6, activation='softmax') \r\n",
        "])\r\n",
        "model.compile(optimizer='Adagrad',\r\n",
        "              loss='sparse_categorical_crossentropy',\r\n",
        "              metrics=['accuracy'])"
      ],
      "execution_count": 13,
      "outputs": []
    },
    {
      "cell_type": "code",
      "metadata": {
        "colab": {
          "base_uri": "https://localhost:8080/"
        },
        "id": "1icTDPtcssA7",
        "outputId": "d17032ac-f95e-4b32-9af4-b8c45e6a7656"
      },
      "source": [
        "model.fit(X_train, y_train,epochs=100, validation_data=(x_val, y_val)) # Train the model, 100 epochs"
      ],
      "execution_count": 14,
      "outputs": [
        {
          "output_type": "stream",
          "text": [
            "Epoch 1/100\n",
            "12/12 [==============================] - 1s 31ms/step - loss: 1268.4802 - accuracy: 0.3703 - val_loss: 417.1268 - val_accuracy: 0.8500\n",
            "Epoch 2/100\n",
            "12/12 [==============================] - 0s 13ms/step - loss: 257.0031 - accuracy: 0.8280 - val_loss: 370.0549 - val_accuracy: 0.7100\n",
            "Epoch 3/100\n",
            "12/12 [==============================] - 0s 14ms/step - loss: 229.9051 - accuracy: 0.7658 - val_loss: 98.2868 - val_accuracy: 0.8500\n",
            "Epoch 4/100\n",
            "12/12 [==============================] - 0s 13ms/step - loss: 94.5024 - accuracy: 0.8325 - val_loss: 62.4110 - val_accuracy: 0.8300\n",
            "Epoch 5/100\n",
            "12/12 [==============================] - 0s 13ms/step - loss: 82.1208 - accuracy: 0.8232 - val_loss: 41.5941 - val_accuracy: 0.8500\n",
            "Epoch 6/100\n",
            "12/12 [==============================] - 0s 13ms/step - loss: 52.5569 - accuracy: 0.8410 - val_loss: 43.4636 - val_accuracy: 0.8500\n",
            "Epoch 7/100\n",
            "12/12 [==============================] - 0s 13ms/step - loss: 55.6210 - accuracy: 0.8343 - val_loss: 68.1148 - val_accuracy: 0.8500\n",
            "Epoch 8/100\n",
            "12/12 [==============================] - 0s 14ms/step - loss: 22.3124 - accuracy: 0.9363 - val_loss: 10.9114 - val_accuracy: 0.8300\n",
            "Epoch 9/100\n",
            "12/12 [==============================] - 0s 13ms/step - loss: 29.0624 - accuracy: 0.8656 - val_loss: 20.0147 - val_accuracy: 0.8300\n",
            "Epoch 10/100\n",
            "12/12 [==============================] - 0s 14ms/step - loss: 63.0010 - accuracy: 0.7932 - val_loss: 22.1532 - val_accuracy: 0.8500\n",
            "Epoch 11/100\n",
            "12/12 [==============================] - 0s 13ms/step - loss: 55.2715 - accuracy: 0.8110 - val_loss: 13.0704 - val_accuracy: 0.8300\n",
            "Epoch 12/100\n",
            "12/12 [==============================] - 0s 13ms/step - loss: 27.4310 - accuracy: 0.8576 - val_loss: 20.4886 - val_accuracy: 0.8500\n",
            "Epoch 13/100\n",
            "12/12 [==============================] - 0s 13ms/step - loss: 32.1509 - accuracy: 0.8516 - val_loss: 66.3898 - val_accuracy: 0.8300\n",
            "Epoch 14/100\n",
            "12/12 [==============================] - 0s 14ms/step - loss: 47.3563 - accuracy: 0.8244 - val_loss: 51.8285 - val_accuracy: 0.8300\n",
            "Epoch 15/100\n",
            "12/12 [==============================] - 0s 13ms/step - loss: 55.4140 - accuracy: 0.7907 - val_loss: 3.2178 - val_accuracy: 0.8500\n",
            "Epoch 16/100\n",
            "12/12 [==============================] - 0s 14ms/step - loss: 21.4608 - accuracy: 0.8561 - val_loss: 18.9898 - val_accuracy: 0.8500\n",
            "Epoch 17/100\n",
            "12/12 [==============================] - 0s 14ms/step - loss: 38.2744 - accuracy: 0.8164 - val_loss: 25.8612 - val_accuracy: 0.8300\n",
            "Epoch 18/100\n",
            "12/12 [==============================] - 0s 14ms/step - loss: 25.6952 - accuracy: 0.8400 - val_loss: 54.9676 - val_accuracy: 0.8300\n",
            "Epoch 19/100\n",
            "12/12 [==============================] - 0s 13ms/step - loss: 26.4366 - accuracy: 0.8755 - val_loss: 0.0569 - val_accuracy: 0.9900\n",
            "Epoch 20/100\n",
            "12/12 [==============================] - 0s 14ms/step - loss: 2.2166 - accuracy: 0.9839 - val_loss: 0.0034 - val_accuracy: 1.0000\n",
            "Epoch 21/100\n",
            "12/12 [==============================] - 0s 14ms/step - loss: 14.2344 - accuracy: 0.9115 - val_loss: 26.6658 - val_accuracy: 0.8300\n",
            "Epoch 22/100\n",
            "12/12 [==============================] - 0s 25ms/step - loss: 26.5078 - accuracy: 0.8393 - val_loss: 27.1082 - val_accuracy: 0.8300\n",
            "Epoch 23/100\n",
            "12/12 [==============================] - 0s 13ms/step - loss: 24.4979 - accuracy: 0.8419 - val_loss: 23.5026 - val_accuracy: 0.8500\n",
            "Epoch 24/100\n",
            "12/12 [==============================] - 0s 13ms/step - loss: 24.1452 - accuracy: 0.8420 - val_loss: 93.0701 - val_accuracy: 0.8500\n",
            "Epoch 25/100\n",
            "12/12 [==============================] - 0s 13ms/step - loss: 51.6124 - accuracy: 0.8152 - val_loss: 22.7873 - val_accuracy: 0.8500\n",
            "Epoch 26/100\n",
            "12/12 [==============================] - 0s 13ms/step - loss: 27.1439 - accuracy: 0.8349 - val_loss: 3.3687 - val_accuracy: 0.8500\n",
            "Epoch 27/100\n",
            "12/12 [==============================] - 0s 14ms/step - loss: 20.4475 - accuracy: 0.8305 - val_loss: 9.8137 - val_accuracy: 0.8300\n",
            "Epoch 28/100\n",
            "12/12 [==============================] - 0s 14ms/step - loss: 16.5578 - accuracy: 0.8632 - val_loss: 25.7551 - val_accuracy: 0.8300\n",
            "Epoch 29/100\n",
            "12/12 [==============================] - 0s 13ms/step - loss: 24.4683 - accuracy: 0.8369 - val_loss: 29.1145 - val_accuracy: 0.8300\n",
            "Epoch 30/100\n",
            "12/12 [==============================] - 0s 14ms/step - loss: 24.0990 - accuracy: 0.8307 - val_loss: 0.0962 - val_accuracy: 0.9900\n",
            "Epoch 31/100\n",
            "12/12 [==============================] - 0s 13ms/step - loss: 9.7336 - accuracy: 0.9157 - val_loss: 8.2486 - val_accuracy: 0.8300\n",
            "Epoch 32/100\n",
            "12/12 [==============================] - 0s 13ms/step - loss: 22.1479 - accuracy: 0.8409 - val_loss: 1.9812e-06 - val_accuracy: 1.0000\n",
            "Epoch 33/100\n",
            "12/12 [==============================] - 0s 13ms/step - loss: 7.2430e-06 - accuracy: 1.0000 - val_loss: 1.9919e-06 - val_accuracy: 1.0000\n",
            "Epoch 34/100\n",
            "12/12 [==============================] - 0s 15ms/step - loss: 6.8280e-06 - accuracy: 1.0000 - val_loss: 2.0134e-06 - val_accuracy: 1.0000\n",
            "Epoch 35/100\n",
            "12/12 [==============================] - 0s 13ms/step - loss: 5.3243e-06 - accuracy: 1.0000 - val_loss: 2.0420e-06 - val_accuracy: 1.0000\n",
            "Epoch 36/100\n",
            "12/12 [==============================] - 0s 14ms/step - loss: 5.0013e-06 - accuracy: 1.0000 - val_loss: 2.0730e-06 - val_accuracy: 1.0000\n",
            "Epoch 37/100\n",
            "12/12 [==============================] - 0s 13ms/step - loss: 3.0372e-06 - accuracy: 1.0000 - val_loss: 2.1170e-06 - val_accuracy: 1.0000\n",
            "Epoch 38/100\n",
            "12/12 [==============================] - 0s 13ms/step - loss: 3.2748e-06 - accuracy: 1.0000 - val_loss: 2.1754e-06 - val_accuracy: 1.0000\n",
            "Epoch 39/100\n",
            "12/12 [==============================] - 0s 14ms/step - loss: 2.9092e-06 - accuracy: 1.0000 - val_loss: 2.2243e-06 - val_accuracy: 1.0000\n",
            "Epoch 40/100\n",
            "12/12 [==============================] - 0s 14ms/step - loss: 9.2856e-06 - accuracy: 1.0000 - val_loss: 2.2672e-06 - val_accuracy: 1.0000\n",
            "Epoch 41/100\n",
            "12/12 [==============================] - 0s 13ms/step - loss: 5.9925e-06 - accuracy: 1.0000 - val_loss: 2.3054e-06 - val_accuracy: 1.0000\n",
            "Epoch 42/100\n",
            "12/12 [==============================] - 0s 13ms/step - loss: 6.1199e-06 - accuracy: 1.0000 - val_loss: 2.3447e-06 - val_accuracy: 1.0000\n",
            "Epoch 43/100\n",
            "12/12 [==============================] - 0s 13ms/step - loss: 5.2587e-06 - accuracy: 1.0000 - val_loss: 2.3828e-06 - val_accuracy: 1.0000\n",
            "Epoch 44/100\n",
            "12/12 [==============================] - 0s 13ms/step - loss: 7.4061e-06 - accuracy: 1.0000 - val_loss: 2.4174e-06 - val_accuracy: 1.0000\n",
            "Epoch 45/100\n",
            "12/12 [==============================] - 0s 13ms/step - loss: 5.0853e-06 - accuracy: 1.0000 - val_loss: 2.4519e-06 - val_accuracy: 1.0000\n",
            "Epoch 46/100\n",
            "12/12 [==============================] - 0s 16ms/step - loss: 5.2859e-06 - accuracy: 1.0000 - val_loss: 2.4841e-06 - val_accuracy: 1.0000\n",
            "Epoch 47/100\n",
            "12/12 [==============================] - 0s 14ms/step - loss: 5.8863e-06 - accuracy: 1.0000 - val_loss: 2.5187e-06 - val_accuracy: 1.0000\n",
            "Epoch 48/100\n",
            "12/12 [==============================] - 0s 14ms/step - loss: 4.6131e-06 - accuracy: 1.0000 - val_loss: 2.5532e-06 - val_accuracy: 1.0000\n",
            "Epoch 49/100\n",
            "12/12 [==============================] - 0s 15ms/step - loss: 2.0811e-06 - accuracy: 1.0000 - val_loss: 2.5866e-06 - val_accuracy: 1.0000\n",
            "Epoch 50/100\n",
            "12/12 [==============================] - 0s 13ms/step - loss: 2.3925e-06 - accuracy: 1.0000 - val_loss: 2.6224e-06 - val_accuracy: 1.0000\n",
            "Epoch 51/100\n",
            "12/12 [==============================] - 0s 13ms/step - loss: 6.0895e-06 - accuracy: 1.0000 - val_loss: 2.6474e-06 - val_accuracy: 1.0000\n",
            "Epoch 52/100\n",
            "12/12 [==============================] - 0s 14ms/step - loss: 9.0330e-06 - accuracy: 1.0000 - val_loss: 2.6724e-06 - val_accuracy: 1.0000\n",
            "Epoch 53/100\n",
            "12/12 [==============================] - 0s 13ms/step - loss: 3.3765e-06 - accuracy: 1.0000 - val_loss: 2.6998e-06 - val_accuracy: 1.0000\n",
            "Epoch 54/100\n",
            "12/12 [==============================] - 0s 12ms/step - loss: 1.2844e-06 - accuracy: 1.0000 - val_loss: 2.7237e-06 - val_accuracy: 1.0000\n",
            "Epoch 55/100\n",
            "12/12 [==============================] - 0s 15ms/step - loss: 1.7195e-06 - accuracy: 1.0000 - val_loss: 2.7404e-06 - val_accuracy: 1.0000\n",
            "Epoch 56/100\n",
            "12/12 [==============================] - 0s 16ms/step - loss: 3.6501e-06 - accuracy: 1.0000 - val_loss: 2.7606e-06 - val_accuracy: 1.0000\n",
            "Epoch 57/100\n",
            "12/12 [==============================] - 0s 13ms/step - loss: 2.7611e-06 - accuracy: 1.0000 - val_loss: 2.7785e-06 - val_accuracy: 1.0000\n",
            "Epoch 58/100\n",
            "12/12 [==============================] - 0s 16ms/step - loss: 6.5079e-06 - accuracy: 1.0000 - val_loss: 2.7928e-06 - val_accuracy: 1.0000\n",
            "Epoch 59/100\n",
            "12/12 [==============================] - 0s 13ms/step - loss: 1.9874e-06 - accuracy: 1.0000 - val_loss: 2.8107e-06 - val_accuracy: 1.0000\n",
            "Epoch 60/100\n",
            "12/12 [==============================] - 0s 14ms/step - loss: 4.8081e-06 - accuracy: 1.0000 - val_loss: 2.8178e-06 - val_accuracy: 1.0000\n",
            "Epoch 61/100\n",
            "12/12 [==============================] - 0s 13ms/step - loss: 4.9911e-06 - accuracy: 1.0000 - val_loss: 2.8357e-06 - val_accuracy: 1.0000\n",
            "Epoch 62/100\n",
            "12/12 [==============================] - 0s 14ms/step - loss: 3.6138e-06 - accuracy: 1.0000 - val_loss: 2.8524e-06 - val_accuracy: 1.0000\n",
            "Epoch 63/100\n",
            "12/12 [==============================] - 0s 14ms/step - loss: 6.3457e-06 - accuracy: 1.0000 - val_loss: 2.8655e-06 - val_accuracy: 1.0000\n",
            "Epoch 64/100\n",
            "12/12 [==============================] - 0s 13ms/step - loss: 2.7179e-06 - accuracy: 1.0000 - val_loss: 2.8798e-06 - val_accuracy: 1.0000\n",
            "Epoch 65/100\n",
            "12/12 [==============================] - 0s 13ms/step - loss: 4.4201e-06 - accuracy: 1.0000 - val_loss: 2.8857e-06 - val_accuracy: 1.0000\n",
            "Epoch 66/100\n",
            "12/12 [==============================] - 0s 23ms/step - loss: 2.4786e-06 - accuracy: 1.0000 - val_loss: 2.9203e-06 - val_accuracy: 1.0000\n",
            "Epoch 67/100\n",
            "12/12 [==============================] - 0s 14ms/step - loss: 8.1874e-06 - accuracy: 1.0000 - val_loss: 2.9310e-06 - val_accuracy: 1.0000\n",
            "Epoch 68/100\n",
            "12/12 [==============================] - 0s 14ms/step - loss: 2.9980e-06 - accuracy: 1.0000 - val_loss: 2.9370e-06 - val_accuracy: 1.0000\n",
            "Epoch 69/100\n",
            "12/12 [==============================] - 0s 13ms/step - loss: 1.5241e-06 - accuracy: 1.0000 - val_loss: 2.9239e-06 - val_accuracy: 1.0000\n",
            "Epoch 70/100\n",
            "12/12 [==============================] - 0s 14ms/step - loss: 5.6466e-06 - accuracy: 1.0000 - val_loss: 2.9358e-06 - val_accuracy: 1.0000\n",
            "Epoch 71/100\n",
            "12/12 [==============================] - 0s 14ms/step - loss: 4.0152e-06 - accuracy: 1.0000 - val_loss: 2.9465e-06 - val_accuracy: 1.0000\n",
            "Epoch 72/100\n",
            "12/12 [==============================] - 0s 13ms/step - loss: 1.4002e-06 - accuracy: 1.0000 - val_loss: 2.9596e-06 - val_accuracy: 1.0000\n",
            "Epoch 73/100\n",
            "12/12 [==============================] - 0s 14ms/step - loss: 3.1292e-06 - accuracy: 1.0000 - val_loss: 2.9596e-06 - val_accuracy: 1.0000\n",
            "Epoch 74/100\n",
            "12/12 [==============================] - 0s 13ms/step - loss: 8.6905e-06 - accuracy: 1.0000 - val_loss: 2.9620e-06 - val_accuracy: 1.0000\n",
            "Epoch 75/100\n",
            "12/12 [==============================] - 0s 14ms/step - loss: 4.9049e-06 - accuracy: 1.0000 - val_loss: 2.9620e-06 - val_accuracy: 1.0000\n",
            "Epoch 76/100\n",
            "12/12 [==============================] - 0s 14ms/step - loss: 5.4357e-06 - accuracy: 1.0000 - val_loss: 2.9668e-06 - val_accuracy: 1.0000\n",
            "Epoch 77/100\n",
            "12/12 [==============================] - 0s 13ms/step - loss: 2.4018e-06 - accuracy: 1.0000 - val_loss: 2.9704e-06 - val_accuracy: 1.0000\n",
            "Epoch 78/100\n",
            "12/12 [==============================] - 0s 13ms/step - loss: 4.1161e-06 - accuracy: 1.0000 - val_loss: 2.9680e-06 - val_accuracy: 1.0000\n",
            "Epoch 79/100\n",
            "12/12 [==============================] - 0s 13ms/step - loss: 5.0914e-06 - accuracy: 1.0000 - val_loss: 2.9763e-06 - val_accuracy: 1.0000\n",
            "Epoch 80/100\n",
            "12/12 [==============================] - 0s 14ms/step - loss: 3.3916e-06 - accuracy: 1.0000 - val_loss: 2.9894e-06 - val_accuracy: 1.0000\n",
            "Epoch 81/100\n",
            "12/12 [==============================] - 0s 14ms/step - loss: 3.1853e-06 - accuracy: 1.0000 - val_loss: 2.9942e-06 - val_accuracy: 1.0000\n",
            "Epoch 82/100\n",
            "12/12 [==============================] - 0s 13ms/step - loss: 4.8576e-06 - accuracy: 1.0000 - val_loss: 3.0002e-06 - val_accuracy: 1.0000\n",
            "Epoch 83/100\n",
            "12/12 [==============================] - 0s 13ms/step - loss: 3.3670e-06 - accuracy: 1.0000 - val_loss: 3.0025e-06 - val_accuracy: 1.0000\n",
            "Epoch 84/100\n",
            "12/12 [==============================] - 0s 13ms/step - loss: 3.0650e-06 - accuracy: 1.0000 - val_loss: 3.0085e-06 - val_accuracy: 1.0000\n",
            "Epoch 85/100\n",
            "12/12 [==============================] - 0s 13ms/step - loss: 3.4518e-06 - accuracy: 1.0000 - val_loss: 3.0145e-06 - val_accuracy: 1.0000\n",
            "Epoch 86/100\n",
            "12/12 [==============================] - 0s 15ms/step - loss: 4.8774e-06 - accuracy: 1.0000 - val_loss: 3.0097e-06 - val_accuracy: 1.0000\n",
            "Epoch 87/100\n",
            "12/12 [==============================] - 0s 14ms/step - loss: 7.3706e-06 - accuracy: 1.0000 - val_loss: 3.0121e-06 - val_accuracy: 1.0000\n",
            "Epoch 88/100\n",
            "12/12 [==============================] - 0s 13ms/step - loss: 2.9349e-06 - accuracy: 1.0000 - val_loss: 3.0121e-06 - val_accuracy: 1.0000\n",
            "Epoch 89/100\n",
            "12/12 [==============================] - 0s 14ms/step - loss: 2.8158e-06 - accuracy: 1.0000 - val_loss: 3.0228e-06 - val_accuracy: 1.0000\n",
            "Epoch 90/100\n",
            "12/12 [==============================] - 0s 14ms/step - loss: 6.0898e-06 - accuracy: 1.0000 - val_loss: 3.0252e-06 - val_accuracy: 1.0000\n",
            "Epoch 91/100\n",
            "12/12 [==============================] - 0s 13ms/step - loss: 3.7612e-06 - accuracy: 1.0000 - val_loss: 3.0216e-06 - val_accuracy: 1.0000\n",
            "Epoch 92/100\n",
            "12/12 [==============================] - 0s 15ms/step - loss: 1.8058e-06 - accuracy: 1.0000 - val_loss: 3.0264e-06 - val_accuracy: 1.0000\n",
            "Epoch 93/100\n",
            "12/12 [==============================] - 0s 13ms/step - loss: 2.8688e-06 - accuracy: 1.0000 - val_loss: 3.0228e-06 - val_accuracy: 1.0000\n",
            "Epoch 94/100\n",
            "12/12 [==============================] - 0s 13ms/step - loss: 5.4337e-06 - accuracy: 1.0000 - val_loss: 3.0228e-06 - val_accuracy: 1.0000\n",
            "Epoch 95/100\n",
            "12/12 [==============================] - 0s 14ms/step - loss: 2.6987e-06 - accuracy: 1.0000 - val_loss: 3.0252e-06 - val_accuracy: 1.0000\n",
            "Epoch 96/100\n",
            "12/12 [==============================] - 0s 15ms/step - loss: 3.3635e-06 - accuracy: 1.0000 - val_loss: 3.0311e-06 - val_accuracy: 1.0000\n",
            "Epoch 97/100\n",
            "12/12 [==============================] - 0s 14ms/step - loss: 3.3702e-06 - accuracy: 1.0000 - val_loss: 3.0359e-06 - val_accuracy: 1.0000\n",
            "Epoch 98/100\n",
            "12/12 [==============================] - 0s 13ms/step - loss: 2.8329e-06 - accuracy: 1.0000 - val_loss: 3.0383e-06 - val_accuracy: 1.0000\n",
            "Epoch 99/100\n",
            "12/12 [==============================] - 0s 14ms/step - loss: 9.6758e-06 - accuracy: 1.0000 - val_loss: 3.0407e-06 - val_accuracy: 1.0000\n",
            "Epoch 100/100\n",
            "12/12 [==============================] - 0s 14ms/step - loss: 3.9993e-06 - accuracy: 1.0000 - val_loss: 3.0347e-06 - val_accuracy: 1.0000\n"
          ],
          "name": "stdout"
        },
        {
          "output_type": "execute_result",
          "data": {
            "text/plain": [
              "<tensorflow.python.keras.callbacks.History at 0x7fbfc9d612b0>"
            ]
          },
          "metadata": {
            "tags": []
          },
          "execution_count": 14
        }
      ]
    },
    {
      "cell_type": "code",
      "metadata": {
        "colab": {
          "base_uri": "https://localhost:8080/"
        },
        "id": "BLJcRFuosypZ",
        "outputId": "1e97ff2e-08ba-4478-8ed6-1440282dc130"
      },
      "source": [
        "test_loss, test_acc = model.evaluate(X_test,  y_test, verbose=0) # Testing the model\r\n",
        "print('Test accuracy:', test_acc)"
      ],
      "execution_count": 15,
      "outputs": [
        {
          "output_type": "stream",
          "text": [
            "Test accuracy: 1.0\n"
          ],
          "name": "stdout"
        }
      ]
    },
    {
      "cell_type": "code",
      "metadata": {
        "id": "qa_fORJfCJEp"
      },
      "source": [
        "# Save the data in a pickle file\r\n",
        "pickle_file = open('Data.pkl', 'wb')\r\n",
        "pickle.dump(c, pickle_file)\r\n",
        "pickle_file.close()"
      ],
      "execution_count": 16,
      "outputs": []
    },
    {
      "cell_type": "code",
      "metadata": {
        "id": "JRbpp2fHGD-Y"
      },
      "source": [
        "# Open the data\r\n",
        "pkl_file = open('Data.pkl', 'rb')\r\n",
        "processing_data= pickle.load(pkl_file)\r\n",
        "pkl_file.close()"
      ],
      "execution_count": 17,
      "outputs": []
    },
    {
      "cell_type": "code",
      "metadata": {
        "id": "B58-FIwKL1Cm"
      },
      "source": [
        "# Save the labels in a pickle file\r\n",
        "pickle_labels = open('Labels.pkl', 'wb')\r\n",
        "pickle.dump(b, pickle_labels)\r\n",
        "pickle_labels.close()"
      ],
      "execution_count": 18,
      "outputs": []
    },
    {
      "cell_type": "code",
      "metadata": {
        "id": "T6EFioLyG3uA"
      },
      "source": [
        "# Open the labels\r\n",
        "labels_file = open('Labels.pkl', 'rb')\r\n",
        "labels= pickle.load(labels_file)\r\n",
        "labels_file.close()"
      ],
      "execution_count": 19,
      "outputs": []
    }
  ]
}