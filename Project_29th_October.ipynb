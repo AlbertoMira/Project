{
  "nbformat": 4,
  "nbformat_minor": 0,
  "metadata": {
    "colab": {
      "name": "Project_29th_October.ipynb",
      "provenance": [],
      "collapsed_sections": []
    },
    "kernelspec": {
      "name": "python3",
      "display_name": "Python 3"
    }
  },
  "cells": [
    {
      "cell_type": "code",
      "metadata": {
        "id": "DS71-Lk4wop0"
      },
      "source": [
        "#First, let's process the data from the measurements\n",
        "def openWeakGrasp():\n",
        "    f2 = open(\"AllWeakGrasps.txt\", \"w\")\n",
        "    for i in range(1, 10):\n",
        "        f = open(\"WeakGrasp_\" + str(i) + \".txt\", \"r\")\n",
        "        lists = f.readlines()\n",
        "        lists = lists[3:]\n",
        "        for e in lists:\n",
        "            e = ''.join(e)\n",
        "            e = e.split(\";\")\n",
        "            f2.write(str(e[2] + \"\\t\" + e[3] + \"\\t\" + str(0) + \"\\n\"))\n",
        "        f2.write(\"End of grasp\" + \"\\t\" + str(i) + \"\\n\")\n",
        "    f2.close()\n",
        "    f.close()"
      ],
      "execution_count": null,
      "outputs": []
    },
    {
      "cell_type": "code",
      "metadata": {
        "id": "98bT7IwLws8J"
      },
      "source": [
        "def openStrongGrasp():\n",
        "    f2 = open(\"AllStrongGrasps.txt\", \"w\")\n",
        "    for i in range(9, 19):\n",
        "        f = open(\"StrongGrasp_\" + str(i) + \".txt\", \"r\")\n",
        "        lists = f.readlines()\n",
        "        lists = lists[3:]\n",
        "        for e in lists:\n",
        "            e = ''.join(e)\n",
        "            e = e.split(\";\")\n",
        "            f2.write(str(e[2] + \"\\t\" + e[3] + \"\\t\" + str(1) + \"\\n\"))\n",
        "        f2.write(\"End of grasp\" + \"\\t\" + str(i) + \"\\n\")\n",
        "    f2.close()\n",
        "    f.close()"
      ],
      "execution_count": null,
      "outputs": []
    },
    {
      "cell_type": "code",
      "metadata": {
        "id": "qup_5H4GwtEU"
      },
      "source": [
        "def joinFiles():\n",
        "    f = open(\"AllWeakGrasps.txt\", \"r\")\n",
        "    f1 = open(\"AllStrongGrasps.txt\", \"r\")\n",
        "    f2 = open(\"AllTogether.txt\", \"w\")\n",
        "    l = f.readlines()\n",
        "    l1 = f1.readlines()\n",
        "    for e in l:\n",
        "        f2.write(str(e) + \"\\n\")\n",
        "    for e in l1:\n",
        "        f2.write(str(e) + \"\\n\")\n",
        "    f.close()\n",
        "    f1.close()\n",
        "    f2.close()"
      ],
      "execution_count": null,
      "outputs": []
    },
    {
      "cell_type": "code",
      "metadata": {
        "id": "3hokM8JFwtHM",
        "outputId": "2cc980ae-4401-46a7-ec7d-735645bc5bf5",
        "colab": {
          "base_uri": "https://localhost:8080/"
        }
      },
      "source": [
        "#Import TensorFlow\n",
        "import tensorflow as tf\n",
        "from tensorflow.keras.layers import Dense, Flatten\n",
        "print(tf.__version__)\n"
      ],
      "execution_count": 12,
      "outputs": [
        {
          "output_type": "stream",
          "text": [
            "2.3.0\n"
          ],
          "name": "stdout"
        }
      ]
    },
    {
      "cell_type": "code",
      "metadata": {
        "id": "ymMwiH71wtLR",
        "outputId": "17167abc-dbb8-45f5-dcff-aae9d13f6824",
        "colab": {
          "base_uri": "https://localhost:8080/"
        }
      },
      "source": [
        "#Build the model\n",
        "def buildTheModel():\n",
        "    model = tf.keras.models.Sequential([\n",
        "    tf.keras.layers.Flatten(input_shape=(28, 28)),\n",
        "    tf.keras.layers.Dense(128, activation='relu'),\n",
        "    tf.keras.layers.Dropout(0.2),\n",
        "    tf.keras.layers.Dense(10)\n",
        "    ])\n",
        "    loss_fn = tf.keras.losses.SparseCategoricalCrossentropy(from_logits=True)\n",
        "    model.compile(optimizer='adam',\n",
        "                  loss=loss_fn,\n",
        "                  metrics=['accuracy'])\n",
        "    return model\n",
        "buildTheModel()"
      ],
      "execution_count": 13,
      "outputs": [
        {
          "output_type": "execute_result",
          "data": {
            "text/plain": [
              "<tensorflow.python.keras.engine.sequential.Sequential at 0x7fe3491ef7f0>"
            ]
          },
          "metadata": {
            "tags": []
          },
          "execution_count": 13
        }
      ]
    },
    {
      "cell_type": "code",
      "metadata": {
        "id": "K8AQg0Jqw_fu"
      },
      "source": [
        "#Fit the model\n",
        "def fitModel(x_train, y_train, model):\n",
        "    model.fit(x_train, y_train, epochs=5)"
      ],
      "execution_count": null,
      "outputs": []
    },
    {
      "cell_type": "code",
      "metadata": {
        "id": "ChYGOoaUw_pP"
      },
      "source": [
        "#Evaluate the model\n",
        "def evaluateModel(x_test, y_test, model):\n",
        "    model.evaluate(x_test, y_test, verbose=2)"
      ],
      "execution_count": null,
      "outputs": []
    }
  ]
}